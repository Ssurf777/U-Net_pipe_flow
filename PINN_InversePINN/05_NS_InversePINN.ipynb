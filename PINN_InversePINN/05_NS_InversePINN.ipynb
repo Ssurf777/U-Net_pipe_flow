{
  "nbformat": 4,
  "nbformat_minor": 0,
  "metadata": {
    "colab": {
      "provenance": [],
      "gpuType": "T4"
    },
    "kernelspec": {
      "name": "python3",
      "display_name": "Python 3"
    },
    "language_info": {
      "name": "python"
    },
    "accelerator": "GPU"
  },
  "cells": [
    {
      "cell_type": "code",
      "source": [
        "!pip install deepxde"
      ],
      "metadata": {
        "colab": {
          "base_uri": "https://localhost:8080/"
        },
        "id": "FM6cFJHSCRVV",
        "outputId": "549bebb6-4e66-4aa4-ddda-e1643f3a3b3d"
      },
      "execution_count": null,
      "outputs": [
        {
          "output_type": "stream",
          "name": "stdout",
          "text": [
            "Collecting deepxde\n",
            "  Downloading deepxde-1.14.0-py3-none-any.whl.metadata (12 kB)\n",
            "Requirement already satisfied: matplotlib in /usr/local/lib/python3.11/dist-packages (from deepxde) (3.10.0)\n",
            "Requirement already satisfied: numpy in /usr/local/lib/python3.11/dist-packages (from deepxde) (2.0.2)\n",
            "Requirement already satisfied: scikit-learn in /usr/local/lib/python3.11/dist-packages (from deepxde) (1.6.1)\n",
            "Collecting scikit-optimize>=0.9.0 (from deepxde)\n",
            "  Downloading scikit_optimize-0.10.2-py2.py3-none-any.whl.metadata (9.7 kB)\n",
            "Requirement already satisfied: scipy in /usr/local/lib/python3.11/dist-packages (from deepxde) (1.15.3)\n",
            "Requirement already satisfied: joblib>=0.11 in /usr/local/lib/python3.11/dist-packages (from scikit-optimize>=0.9.0->deepxde) (1.5.1)\n",
            "Collecting pyaml>=16.9 (from scikit-optimize>=0.9.0->deepxde)\n",
            "  Downloading pyaml-25.5.0-py3-none-any.whl.metadata (12 kB)\n",
            "Requirement already satisfied: packaging>=21.3 in /usr/local/lib/python3.11/dist-packages (from scikit-optimize>=0.9.0->deepxde) (24.2)\n",
            "Requirement already satisfied: threadpoolctl>=3.1.0 in /usr/local/lib/python3.11/dist-packages (from scikit-learn->deepxde) (3.6.0)\n",
            "Requirement already satisfied: contourpy>=1.0.1 in /usr/local/lib/python3.11/dist-packages (from matplotlib->deepxde) (1.3.2)\n",
            "Requirement already satisfied: cycler>=0.10 in /usr/local/lib/python3.11/dist-packages (from matplotlib->deepxde) (0.12.1)\n",
            "Requirement already satisfied: fonttools>=4.22.0 in /usr/local/lib/python3.11/dist-packages (from matplotlib->deepxde) (4.58.4)\n",
            "Requirement already satisfied: kiwisolver>=1.3.1 in /usr/local/lib/python3.11/dist-packages (from matplotlib->deepxde) (1.4.8)\n",
            "Requirement already satisfied: pillow>=8 in /usr/local/lib/python3.11/dist-packages (from matplotlib->deepxde) (11.2.1)\n",
            "Requirement already satisfied: pyparsing>=2.3.1 in /usr/local/lib/python3.11/dist-packages (from matplotlib->deepxde) (3.2.3)\n",
            "Requirement already satisfied: python-dateutil>=2.7 in /usr/local/lib/python3.11/dist-packages (from matplotlib->deepxde) (2.9.0.post0)\n",
            "Requirement already satisfied: PyYAML in /usr/local/lib/python3.11/dist-packages (from pyaml>=16.9->scikit-optimize>=0.9.0->deepxde) (6.0.2)\n",
            "Requirement already satisfied: six>=1.5 in /usr/local/lib/python3.11/dist-packages (from python-dateutil>=2.7->matplotlib->deepxde) (1.17.0)\n",
            "Downloading deepxde-1.14.0-py3-none-any.whl (194 kB)\n",
            "\u001b[2K   \u001b[90m━━━━━━━━━━━━━━━━━━━━━━━━━━━━━━━━━━━━━━━━\u001b[0m \u001b[32m194.2/194.2 kB\u001b[0m \u001b[31m9.7 MB/s\u001b[0m eta \u001b[36m0:00:00\u001b[0m\n",
            "\u001b[?25hDownloading scikit_optimize-0.10.2-py2.py3-none-any.whl (107 kB)\n",
            "\u001b[2K   \u001b[90m━━━━━━━━━━━━━━━━━━━━━━━━━━━━━━━━━━━━━━━━\u001b[0m \u001b[32m107.8/107.8 kB\u001b[0m \u001b[31m6.5 MB/s\u001b[0m eta \u001b[36m0:00:00\u001b[0m\n",
            "\u001b[?25hDownloading pyaml-25.5.0-py3-none-any.whl (26 kB)\n",
            "Installing collected packages: pyaml, scikit-optimize, deepxde\n",
            "Successfully installed deepxde-1.14.0 pyaml-25.5.0 scikit-optimize-0.10.2\n"
          ]
        }
      ]
    },
    {
      "cell_type": "code",
      "execution_count": null,
      "metadata": {
        "colab": {
          "base_uri": "https://localhost:8080/"
        },
        "id": "E8m_ZXWtAF-3",
        "outputId": "d783ac32-f94e-4831-aaf8-dc8ca23b6891"
      },
      "outputs": [
        {
          "output_type": "stream",
          "name": "stdout",
          "text": [
            "No backend selected.\n",
            "Finding available backend...\n"
          ]
        },
        {
          "output_type": "stream",
          "name": "stderr",
          "text": [
            "Using backend: tensorflow.compat.v1\n",
            "Other supported backends: tensorflow, pytorch, jax, paddle.\n",
            "paddle supports more examples now and is recommended.\n",
            "WARNING:tensorflow:From /usr/local/lib/python3.11/dist-packages/tensorflow/python/compat/v2_compat.py:98: disable_resource_variables (from tensorflow.python.ops.resource_variables_toggle) is deprecated and will be removed in a future version.\n",
            "Instructions for updating:\n",
            "non-resource variables are not supported in the long term\n"
          ]
        },
        {
          "output_type": "stream",
          "name": "stdout",
          "text": [
            "Found tensorflow.compat.v1\n",
            "Setting the default backend to \"tensorflow.compat.v1\". You can change it in the ~/.deepxde/config.json file or export the DDE_BACKEND environment variable. Valid options are: tensorflow.compat.v1, tensorflow, pytorch, jax, paddle (all lowercase)\n"
          ]
        },
        {
          "output_type": "stream",
          "name": "stderr",
          "text": [
            "Enable just-in-time compilation with XLA.\n",
            "\n"
          ]
        }
      ],
      "source": [
        "import deepxde as dde\n",
        "import numpy as np\n",
        "import matplotlib.pyplot as plt\n",
        "from scipy.io import loadmat\n",
        "import re\n",
        "\n",
        "C1true = 1.0\n",
        "C2true = 0.01"
      ]
    },
    {
      "cell_type": "markdown",
      "source": [
        "# Load the training data from matlab"
      ],
      "metadata": {
        "id": "7etK6bKQFPIn"
      }
    },
    {
      "cell_type": "code",
      "source": [
        "# Load the training data\n",
        "\n",
        "def load_training_data(num):\n",
        "    #print(\"hi\")\n",
        "    data = loadmat(\"/content/drive/MyDrive/Colab Notebooks/CFD_Unet/cylinder_nektar_wake.mat\")\n",
        "    #print(data)\n",
        "    U_star = data[\"U_star\"] # N x 2 x T\n",
        "    P_star = data[\"p_star\"] # N x T\n",
        "    t_star = data[\"t\"] # T\n",
        "    X_star = data[\"X_star\"] # N x 2\n",
        "\n",
        "    N = X_star.shape[0]\n",
        "    T = t_star.shape[0]\n",
        "\n",
        "    XX = np.tile(X_star[:,0:1], [1, T]) # N x T\n",
        "    YY = np.tile(X_star[:,1:2], [1, T]) # N x T\n",
        "    TT = np.tile(t_star, [1, N]).T\n",
        "    UU = U_star[:,0,:] # N x T\n",
        "    VV = U_star[:,1,:] # N x T\n",
        "    PP = P_star\n",
        "\n",
        "    x = XX.flatten()[:,None] # NT x 1\n",
        "    y = YY.flatten()[:,None] # NT x 1\n",
        "    t = TT.flatten()[:,None] # NT x 1\n",
        "    u = UU.flatten()[:,None] # NT x 1\n",
        "    v = VV.flatten()[:,None] # NT x 1\n",
        "    p = PP.flatten()[:,None] # NT x 1\n",
        "\n",
        "    data1 = np.concatenate([x,y,t,u,v,p], 1)\n",
        "    data2 = data1[:,:][data1[:,2] <= 7 ]\n",
        "    data3 = data2[:,:][data2[:,0] >= 1 ]\n",
        "    data4 = data3[:,:][data3[:,0] <= 8 ]\n",
        "    data5 = data4[:,:][data4[:,1] >= -2 ]\n",
        "    data6 = data5[:,:][data5[:,1] <= 2 ]\n",
        "    data_domain = data6\n",
        "\n",
        "    idx = np.random.choice(data_domain.shape[0], num, replace=False)\n",
        "    x_train = data_domain[idx,0:1]\n",
        "    y_train = data_domain[idx,1:2]\n",
        "    t_train = data_domain[idx,2:3]\n",
        "    u_train = data_domain[idx,3:4]\n",
        "    v_train = data_domain[idx,4:5]\n",
        "    p_train = data_domain[idx,5:6]\n",
        "\n",
        "\n",
        "    return [x_train, y_train, t_train, u_train, v_train, p_train]"
      ],
      "metadata": {
        "id": "f-P5HbOZCMHt"
      },
      "execution_count": null,
      "outputs": []
    },
    {
      "cell_type": "code",
      "source": [
        "[ob_x, ob_y, ob_t, ob_u, ob_v, ob_p] = load_training_data(num=7000)\n",
        "print(\"ob_y.shape\", ob_y.shape)\n",
        "print(\"ob_t.shape\", ob_t.shape)\n",
        "ob_xyt = np.hstack((ob_x, ob_y, ob_t))\n",
        "print(\"ob_xyt.shape\", ob_xyt.shape)"
      ],
      "metadata": {
        "colab": {
          "base_uri": "https://localhost:8080/"
        },
        "id": "DnQyBb5RClrJ",
        "outputId": "c6f53434-5e22-4500-8c9f-cccd63a69929"
      },
      "execution_count": null,
      "outputs": [
        {
          "output_type": "stream",
          "name": "stdout",
          "text": [
            "ob_y.shape (7000, 1)\n",
            "ob_t.shape (7000, 1)\n",
            "ob_xyt.shape (7000, 3)\n"
          ]
        }
      ]
    },
    {
      "cell_type": "markdown",
      "source": [
        "# Difine Neural Network"
      ],
      "metadata": {
        "id": "veurphsjLN3f"
      }
    },
    {
      "cell_type": "code",
      "source": [
        "C1 = dde.Variable(0.0)\n",
        "C2 = dde.Variable(0.0)"
      ],
      "metadata": {
        "id": "UVRjvL2oNzcD"
      },
      "execution_count": null,
      "outputs": []
    },
    {
      "cell_type": "code",
      "source": [
        "def Navier_Stokes_Equation(x,y):\n",
        "    u = y[:, 0:1]\n",
        "    v = y[:, 1:2]\n",
        "    p = y[:, 2:3]\n",
        "    # du/dx, du/dy, du/dt\n",
        "    du_x = dde.grad.jacobian(y, x, i=0, j=0)\n",
        "    du_y = dde.grad.jacobian(y, x, i=0, j=1)\n",
        "    du_t = dde.grad.jacobian(y, x, i=0, j=2)\n",
        "    # dv/dx dv/dy dv/dt\n",
        "    dv_x = dde.grad.jacobian(y, x, i=1, j=0)\n",
        "    dv_y = dde.grad.jacobian(y, x, i=1, j=1)\n",
        "    dv_t = dde.grad.jacobian(y, x, i=1, j=2)\n",
        "    #dp/dx dp/dy\n",
        "    dp_x = dde.grad.jacobian(y, x, i=2, j=0)\n",
        "    dp_y = dde.grad.jacobian(y, x, i=2, j=1)\n",
        "    # d2u/dx2 d2u/dy2\n",
        "    du_xx = dde.grad.hessian(y, x, component=0, i=0, j=0)\n",
        "    du_yy = dde.grad.hessian(y, x, component=0, i=1, j=1)\n",
        "\n",
        "    dv_xx = dde.grad.hessian(y, x, component=1, i=0, j=0)\n",
        "    dv_yy = dde.grad.hessian(y, x, component=1, i=1, j=1)\n",
        "\n",
        "\n",
        "    continuity = du_x + du_y\n",
        "    x_momentum = du_t + C1 * (u * du_x + v * du_y) + dp_x - C2 * (du_xx + du_yy)\n",
        "    y_momentum = dv_t + C1 * (u * dv_x + v * dv_y) + dp_y - C2 * (dv_xx + dv_yy)\n",
        "    return [continuity, x_momentum, y_momentum]"
      ],
      "metadata": {
        "id": "aSHKvmKGC3gb"
      },
      "execution_count": null,
      "outputs": []
    },
    {
      "cell_type": "code",
      "source": [
        "# definet the DNN\n",
        "layer_size = [3] + [50] * 6 + [3]\n",
        "activation = \"tanh\"\n",
        "initializer = \"Glorot uniform\"\n",
        "net = dde.nn.FNN(layer_size, activation, initializer)"
      ],
      "metadata": {
        "id": "Ac_i8E-JN1yq"
      },
      "execution_count": null,
      "outputs": []
    },
    {
      "cell_type": "markdown",
      "source": [
        "# define the BC and IC"
      ],
      "metadata": {
        "id": "75wwsO33OwJ5"
      }
    },
    {
      "cell_type": "code",
      "source": [
        "Lx_min, Lx_max = 1.0, 8.0\n",
        "Ly_min, Ly_max = -2.0, 2.0\n",
        "space_domain = dde.geometry.Rectangle([Lx_min, Ly_min], [Lx_max, Ly_max])\n",
        "\n",
        "time_domain = dde.geometry.TimeDomain(0, 7)\n",
        "geomtime = dde.geometry.GeometryXTime(space_domain, time_domain)"
      ],
      "metadata": {
        "id": "vaYIhBfdOy52"
      },
      "execution_count": null,
      "outputs": []
    },
    {
      "cell_type": "code",
      "source": [
        "observe_u = dde.icbc.PointSetBC(ob_xyt, ob_u, component=0)\n",
        "observe_v = dde.icbc.PointSetBC(ob_xyt, ob_v, component=1)\n",
        "\n",
        "observe_p = dde.icbc.PointSetBC(ob_xyt, ob_p, component=2)"
      ],
      "metadata": {
        "id": "L3nAsCetPfzc"
      },
      "execution_count": null,
      "outputs": []
    },
    {
      "cell_type": "markdown",
      "source": [
        "# Loss Function"
      ],
      "metadata": {
        "id": "Qbyd5GGvQFJ3"
      }
    },
    {
      "cell_type": "code",
      "source": [
        "# training datasets used to caluculate the loss\n",
        "data = dde.data.TimePDE(geomtime, Navier_Stokes_Equation,\n",
        "                        [observe_u, observe_v, observe_p],\n",
        "                        num_domain = 700,\n",
        "                        num_boundary = 200,\n",
        "                        num_initial = 100,\n",
        "                        anchors = ob_xyt)"
      ],
      "metadata": {
        "id": "4TxplantQC6k"
      },
      "execution_count": null,
      "outputs": []
    },
    {
      "cell_type": "markdown",
      "source": [
        "# Optimizer"
      ],
      "metadata": {
        "id": "Pco-J2NlQ_Mf"
      }
    },
    {
      "cell_type": "code",
      "source": [
        "'''model = dde.Model(data, net)\n",
        "\n",
        "result_file_C1_C2 = \"variables_main_C1_C2.dat\"\n",
        "variable = dde.callbacks.VariableValue([C1,C2], period = 100, filename = result_file_C1_C2)\n",
        "\n",
        "model.compile(\"adam\", lr = 1e-3, external_trainable_variables=[C1, C2])\n",
        "loss_history, train_state = model.train(iterations=10000, callbacks=[variable], display_every=1000, disregard_previous_best=True)\n",
        "dde.saveplot(loss_history, train_state, issave=True, isplot=True)\n",
        "\n",
        "model.compile(\"adam\", lr = 1e-4, external_trainable_variables=[C1, C2])\n",
        "loss_history, train_state = model.train(iterations=10000, callbacks=[variable], display_every=1000, disregard_previous_best=True)\n",
        "dde.saveplot(loss_history, train_state, issave=True, isplot=True)\n",
        "\n",
        "f = model.predict(ob_xyt, operator = Navier_Stokes_Equation)\n",
        "print(\"Mean residula:\", np.mean(np.absolute(f)))\n",
        "'''"
      ],
      "metadata": {
        "colab": {
          "base_uri": "https://localhost:8080/",
          "height": 122
        },
        "id": "I37zJxVUQTXz",
        "outputId": "7bb3041c-53f8-4164-93d0-eddd40f06e55"
      },
      "execution_count": null,
      "outputs": [
        {
          "output_type": "execute_result",
          "data": {
            "text/plain": [
              "'model = dde.Model(data, net)\\n\\nresult_file_C1_C2 = \"variables_main_C1_C2.dat\"\\nvariable = dde.callbacks.VariableValue([C1,C2], period = 100, filename = result_file_C1_C2)\\n\\nmodel.compile(\"adam\", lr = 1e-3, external_trainable_variables=[C1, C2])\\nloss_history, train_state = model.train(iterations=10000, callbacks=[variable], display_every=1000, disregard_previous_best=True)\\ndde.saveplot(loss_history, train_state, issave=True, isplot=True)\\n\\nmodel.compile(\"adam\", lr = 1e-4, external_trainable_variables=[C1, C2])\\nloss_history, train_state = model.train(iterations=10000, callbacks=[variable], display_every=1000, disregard_previous_best=True)\\ndde.saveplot(loss_history, train_state, issave=True, isplot=True)\\n\\nf = model.predict(ob_xyt, operator = Navier_Stokes_Equation)\\nprint(\"Mean residula:\", np.mean(np.absolute(f)))\\n'"
            ],
            "application/vnd.google.colaboratory.intrinsic+json": {
              "type": "string"
            }
          },
          "metadata": {},
          "execution_count": 11
        }
      ]
    },
    {
      "cell_type": "code",
      "source": [
        "import deepxde as dde\n",
        "import numpy as np\n",
        "import tensorflow as tf\n",
        "\n",
        "# GPUが利用可能か確認\n",
        "gpus = tf.config.list_physical_devices(\"GPU\")\n",
        "if gpus:\n",
        "    try:\n",
        "        for gpu in gpus:\n",
        "            tf.config.experimental.set_memory_growth(gpu, True)\n",
        "        print(f\"Using GPU: {gpus}\")\n",
        "    except RuntimeError as e:\n",
        "        print(e)\n",
        "else:\n",
        "    print(\"No GPU found. Using CPU.\")\n",
        "\n",
        "# モデル構築\n",
        "model = dde.Model(data, net)\n",
        "\n",
        "# 可変パラメータのログ\n",
        "result_file_C1_C2 = \"variables_main_C1_C2.dat\"\n",
        "variable = dde.callbacks.VariableValue([C1, C2], period=100, filename=result_file_C1_C2)\n",
        "\n",
        "# 第1フェーズ学習\n",
        "model.compile(\"adam\", lr=1e-3, external_trainable_variables=[C1, C2])\n",
        "loss_history, train_state = model.train(\n",
        "    iterations=10000,\n",
        "    callbacks=[variable],\n",
        "    display_every=1000,\n",
        "    disregard_previous_best=True\n",
        ")\n",
        "dde.saveplot(loss_history, train_state, issave=True, isplot=True)\n",
        "\n",
        "# 第2フェーズ学習（学習率変更）\n",
        "model.compile(\"adam\", lr=1e-4, external_trainable_variables=[C1, C2])\n",
        "loss_history, train_state = model.train(\n",
        "    iterations=10000,\n",
        "    callbacks=[variable],\n",
        "    display_every=1000,\n",
        "    disregard_previous_best=True\n",
        ")\n",
        "dde.saveplot(loss_history, train_state, issave=True, isplot=True)\n",
        "\n",
        "# 予測 + 残差の評価\n",
        "f = model.predict(ob_xyt, operator=Navier_Stokes_Equation)\n",
        "print(\"Mean residual:\", np.mean(np.abs(f)))\n"
      ],
      "metadata": {
        "colab": {
          "base_uri": "https://localhost:8080/",
          "height": 1000
        },
        "id": "msassCq9STSd",
        "outputId": "f3613488-3969-4050-daca-f76fc92ff3f1"
      },
      "execution_count": null,
      "outputs": [
        {
          "output_type": "stream",
          "name": "stdout",
          "text": [
            "Using GPU: [PhysicalDevice(name='/physical_device:GPU:0', device_type='GPU')]\n",
            "Compiling model...\n",
            "Warning: For the backend tensorflow.compat.v1, `external_trainable_variables` is ignored, and all trainable ``tf.Variable`` objects are automatically collected.\n",
            "Building feed-forward neural network...\n",
            "'build' took 0.281700 s\n",
            "\n",
            "'compile' took 4.736984 s\n",
            "\n",
            "Training model...\n",
            "\n",
            "Step      Train loss                                                      Test loss                                                       Test metric\n",
            "0         [2.32e-02, 2.84e-02, 1.25e-02, 9.85e-01, 1.21e-01, 9.54e-02]    [2.32e-02, 2.84e-02, 1.25e-02, 9.85e-01, 1.21e-01, 9.54e-02]    []  \n",
            "1000      [1.05e-02, 1.62e-03, 1.49e-03, 3.95e-02, 6.27e-03, 2.61e-03]    [1.05e-02, 1.62e-03, 1.49e-03, 3.95e-02, 6.27e-03, 2.61e-03]    []  \n",
            "2000      [1.08e-02, 1.57e-03, 1.15e-03, 3.66e-02, 2.23e-03, 2.22e-03]    [1.08e-02, 1.57e-03, 1.15e-03, 3.66e-02, 2.23e-03, 2.22e-03]    []  \n",
            "3000      [1.09e-02, 1.70e-03, 1.04e-03, 3.57e-02, 1.52e-03, 2.10e-03]    [1.09e-02, 1.70e-03, 1.04e-03, 3.57e-02, 1.52e-03, 2.10e-03]    []  \n",
            "4000      [1.10e-02, 1.60e-03, 8.55e-04, 3.49e-02, 1.12e-03, 2.06e-03]    [1.10e-02, 1.60e-03, 8.55e-04, 3.49e-02, 1.12e-03, 2.06e-03]    []  \n",
            "5000      [1.21e-02, 1.55e-03, 9.19e-04, 3.41e-02, 1.85e-03, 2.34e-03]    [1.21e-02, 1.55e-03, 9.19e-04, 3.41e-02, 1.85e-03, 2.34e-03]    []  \n",
            "6000      [1.12e-02, 1.51e-03, 7.27e-04, 3.41e-02, 8.52e-04, 1.94e-03]    [1.12e-02, 1.51e-03, 7.27e-04, 3.41e-02, 8.52e-04, 1.94e-03]    []  \n",
            "7000      [1.12e-02, 1.50e-03, 6.88e-04, 3.38e-02, 7.77e-04, 1.88e-03]    [1.12e-02, 1.50e-03, 6.88e-04, 3.38e-02, 7.77e-04, 1.88e-03]    []  \n",
            "8000      [1.12e-02, 1.51e-03, 6.67e-04, 3.35e-02, 7.11e-04, 1.84e-03]    [1.12e-02, 1.51e-03, 6.67e-04, 3.35e-02, 7.11e-04, 1.84e-03]    []  \n",
            "9000      [1.12e-02, 1.53e-03, 6.62e-04, 3.30e-02, 6.97e-04, 1.83e-03]    [1.12e-02, 1.53e-03, 6.62e-04, 3.30e-02, 6.97e-04, 1.83e-03]    []  \n",
            "10000     [1.12e-02, 1.55e-03, 6.66e-04, 3.22e-02, 6.34e-04, 1.81e-03]    [1.12e-02, 1.55e-03, 6.66e-04, 3.22e-02, 6.34e-04, 1.81e-03]    []  \n",
            "\n",
            "Best model at step 10000:\n",
            "  train loss: 4.80e-02\n",
            "  test loss: 4.80e-02\n",
            "  test metric: []\n",
            "\n",
            "'train' took 608.841318 s\n",
            "\n",
            "Saving loss history to /content/loss.dat ...\n",
            "Saving training data to /content/train.dat ...\n",
            "Saving test data to /content/test.dat ...\n"
          ]
        },
        {
          "output_type": "display_data",
          "data": {
            "text/plain": [
              "<Figure size 640x480 with 1 Axes>"
            ],
            "image/png": "[encoded data removed]"
          },
          "metadata": {}
        },
        {
          "output_type": "stream",
          "name": "stdout",
          "text": [
            "Compiling model...\n",
            "Warning: For the backend tensorflow.compat.v1, `external_trainable_variables` is ignored, and all trainable ``tf.Variable`` objects are automatically collected.\n",
            "'compile' took 1.403448 s\n",
            "\n",
            "Training model...\n",
            "\n",
            "Step      Train loss                                                      Test loss                                                       Test metric\n",
            "10000     [1.12e-02, 1.55e-03, 6.66e-04, 3.22e-02, 6.34e-04, 1.81e-03]    [1.12e-02, 1.55e-03, 6.66e-04, 3.22e-02, 6.34e-04, 1.81e-03]    []  \n",
            "11000     [1.10e-02, 1.59e-03, 6.82e-04, 3.15e-02, 6.24e-04, 1.79e-03]    [1.10e-02, 1.59e-03, 6.82e-04, 3.15e-02, 6.24e-04, 1.79e-03]    []  \n",
            "12000     [1.08e-02, 1.69e-03, 6.68e-04, 3.02e-02, 6.37e-04, 1.73e-03]    [1.08e-02, 1.69e-03, 6.68e-04, 3.02e-02, 6.37e-04, 1.73e-03]    []  \n",
            "13000     [1.04e-02, 1.76e-03, 6.77e-04, 2.88e-02, 6.32e-04, 1.71e-03]    [1.04e-02, 1.76e-03, 6.77e-04, 2.88e-02, 6.32e-04, 1.71e-03]    []  \n"
          ]
        }
      ]
    }
  ]
}